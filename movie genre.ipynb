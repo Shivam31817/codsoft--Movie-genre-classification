# codsoft--Movie-genre-classification
hashtag#codsoft Im happy to share my first assignment project in which we used some classification methods like naive Bayes and etc.
import pandas as pd
from sklearn.model_selection import train_test_split
from sklearn.feature_extraction.text import TfidfVectorizer
from sklearn.naive_bayes import MultinomialNB
from sklearn.metrics import accuracy_score, classification_report

df = pd.read_csv('imdb_top_1000.csv')

df = df[['Series_Title', 'Genre']].dropna()

tfidf_vectorizer = TfidfVectorizer(max_features=1000)
X = tfidf_vectorizer.fit_transform(df['Series_Title'])

X_train, X_test, y_train, y_test = train_test_split(X, df['Genre'], test_size=0.2, random_state=42)

classifier = MultinomialNB()

classifier.fit(X_train, y_train)

y_pred = classifier.predict(X_test)

accuracy = accuracy_score(y_test, y_pred)
print(f'Accuracy: {accuracy:.2f}')

print(classification_report(y_test, y_pred))
